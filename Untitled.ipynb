{
 "cells": [
  {
   "cell_type": "code",
   "execution_count": 1,
   "id": "94daa01c-733a-4317-9e2c-8d3c945ff98c",
   "metadata": {},
   "outputs": [],
   "source": [
    "import pandas as pd"
   ]
  },
  {
   "cell_type": "code",
   "execution_count": 2,
   "id": "570e8cd1-c118-4d6f-8d23-5c1f46b2e3fe",
   "metadata": {},
   "outputs": [],
   "source": [
    "from geopy.geocoders import GoogleV3"
   ]
  },
  {
   "cell_type": "code",
   "execution_count": 3,
   "id": "573bb35c-b0b8-457d-abdf-64e36af4ab33",
   "metadata": {},
   "outputs": [],
   "source": [
    "import time"
   ]
  },
  {
   "cell_type": "code",
   "execution_count": 4,
   "id": "97e17317-8ce0-4e2e-bb3c-83a69a3a70b9",
   "metadata": {},
   "outputs": [],
   "source": [
    "API_KEY = 'YOUR_GOOGLE_API_KEY'"
   ]
  },
  {
   "cell_type": "code",
   "execution_count": 5,
   "id": "a3d89b75-7e34-44c5-8405-5a812e32e279",
   "metadata": {},
   "outputs": [],
   "source": [
    "geolocator = GoogleV3(api_key=API_KEY)"
   ]
  },
  {
   "cell_type": "code",
   "execution_count": 6,
   "id": "51190ffc-984c-4dd0-9953-408952c3f249",
   "metadata": {},
   "outputs": [],
   "source": [
    "input_file = '경기도소방서위치데이터.csv'"
   ]
  },
  {
   "cell_type": "code",
   "execution_count": 7,
   "id": "d99b605a-cd68-4c70-a9b5-c3ee85d13fd1",
   "metadata": {},
   "outputs": [],
   "source": [
    "output_file = '경기도소방서위치데이터_좌표.csv'"
   ]
  },
  {
   "cell_type": "code",
   "execution_count": 10,
   "id": "c74a39d2-5865-4ee1-9186-416631ae87d2",
   "metadata": {},
   "outputs": [],
   "source": [
    "df = pd.read_csv(input_file, encoding='ISO-8859-1')"
   ]
  },
  {
   "cell_type": "code",
   "execution_count": 16,
   "id": "0e39aaab-7b09-4e56-8d5f-eeebb7f7ad35",
   "metadata": {
    "scrolled": true
   },
   "outputs": [
    {
     "name": "stdout",
     "output_type": "stream",
     "text": [
      "   ¼ø¹ø            º»ºÎ¸í          ¼Ò¹æ¼­  \\\n",
      "0    76  °æ±âÀç³­¾ÈÀüº»ºÎ      ¼ö¿ø¼Ò¹æ¼­   \n",
      "1    77  °æ±âÀç³­¾ÈÀüº»ºÎ  ¼ö¿ø³²ºÎ¼Ò¹æ¼­   \n",
      "2    78  °æ±âÀç³­¾ÈÀüº»ºÎ      ¼º³²¼Ò¹æ¼­   \n",
      "3    79  °æ±âÀç³­¾ÈÀüº»ºÎ      ºÐ´ç¼Ò¹æ¼­   \n",
      "4    80  °æ±âÀç³­¾ÈÀüº»ºÎ      ºÎÃµ¼Ò¹æ¼­   \n",
      "\n",
      "                                       ÁÖ¼Ò       ÀüÈ­¹øÈ£           FAX  \n",
      "0  °æ±âµµ ¼ö¿ø½Ã Àå¾È±¸ Á¤ÀÚÃµ·Î 189¹ø±æ 12  031-8012-9215  031-280-8515  \n",
      "1         °æ±âµµ ¼ö¿ø½Ã ±Ç¼±±¸ µ¿¼ö¿ø·Î 286   031-639-8100  031-280-8877  \n",
      "2            °æ±âµµ ¼º³²½Ã Áß¿ø±¸ ¸¶Áö·Î 64   031-720-0100  031-280-8533  \n",
      "3            °æ±âµµ ¼º³²½Ã ºÐ´ç±¸ ¾çÇö·Î 14  031-8018-3100  031-280-8544  \n",
      "4           °æ±âµµ ºÎÃµ½Ã ¿ø¹Ì±¸ ½ÅÈï·Î 115   032-650-4119  031-280-8576  \n"
     ]
    }
   ],
   "source": [
    "print(df.head())"
   ]
  },
  {
   "cell_type": "code",
   "execution_count": null,
   "id": "c3b75129-990a-4387-91c7-f97d5d009fd5",
   "metadata": {},
   "outputs": [],
   "source": []
  }
 ],
 "metadata": {
  "kernelspec": {
   "display_name": "Python 3 (ipykernel)",
   "language": "python",
   "name": "python3"
  },
  "language_info": {
   "codemirror_mode": {
    "name": "ipython",
    "version": 3
   },
   "file_extension": ".py",
   "mimetype": "text/x-python",
   "name": "python",
   "nbconvert_exporter": "python",
   "pygments_lexer": "ipython3",
   "version": "3.11.7"
  }
 },
 "nbformat": 4,
 "nbformat_minor": 5
}
