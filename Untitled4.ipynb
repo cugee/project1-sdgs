{
 "cells": [
  {
   "cell_type": "code",
   "execution_count": 1,
   "id": "3a299941",
   "metadata": {},
   "outputs": [],
   "source": [
    "import geopandas as gpd"
   ]
  },
  {
   "cell_type": "code",
   "execution_count": 2,
   "id": "4a76a798",
   "metadata": {},
   "outputs": [],
   "source": [
    "import matplotlib.pyplot as plt"
   ]
  },
  {
   "cell_type": "code",
   "execution_count": 3,
   "id": "cfa9da6c",
   "metadata": {},
   "outputs": [],
   "source": [
    "import pandas as pd"
   ]
  },
  {
   "cell_type": "code",
   "execution_count": 4,
   "id": "aca82759",
   "metadata": {},
   "outputs": [],
   "source": [
    "from tqdm import tqdm"
   ]
  },
  {
   "cell_type": "code",
   "execution_count": 5,
   "id": "88aeea06",
   "metadata": {},
   "outputs": [],
   "source": [
    "import time"
   ]
  },
  {
   "cell_type": "code",
   "execution_count": 6,
   "id": "2ad838f2",
   "metadata": {},
   "outputs": [],
   "source": [
    "import networkx as nx"
   ]
  },
  {
   "cell_type": "code",
   "execution_count": null,
   "id": "0b75363f",
   "metadata": {},
   "outputs": [],
   "source": [
    "import pandas as pd\n",
    "from shapely.geometry import Point, LineString\n",
    "from shapely.geometry import MultiPoint, LineString"
   ]
  },
  {
   "cell_type": "code",
   "execution_count": null,
   "id": "8634800d",
   "metadata": {},
   "outputs": [],
   "source": [
    "import numpy as np\n",
    "import matplotlib.pyplot as plt"
   ]
  },
  {
   "cell_type": "code",
   "execution_count": null,
   "id": "2b299a9f",
   "metadata": {},
   "outputs": [],
   "source": [
    "fire1 = gpd.read_file('./소방서2.shp', encoding = 'cp949')"
   ]
  },
  {
   "cell_type": "code",
   "execution_count": null,
   "id": "54484e3f",
   "metadata": {},
   "outputs": [],
   "source": [
    "new_fire_rows = []\n",
    "\n",
    "for _, fire_row in fire1.iterrows():\n",
    "    # MultiPoint인 경우, 각 Point를 개별 행으로 추가\n",
    "    if isinstance(fire_row['geometry'], MultiPoint):\n",
    "        for point in fire_row['geometry'].geoms:\n",
    "            new_fire_rows.append({'geometry': point})\n",
    "    else:\n",
    "        # 만약 geometry가 이미 Point라면 그대로 추가\n",
    "        new_fire_rows.append({'geometry': fire_row['geometry']})\n",
    "\n",
    "# 새로운 DataFrame\n",
    "new_fire = pd.DataFrame(new_fire_rows)\n",
    "\n",
    "# 결과 확인\n",
    "print(new_fire)"
   ]
  },
  {
   "cell_type": "code",
   "execution_count": null,
   "id": "c465bfc7",
   "metadata": {},
   "outputs": [],
   "source": [
    "fire1['geometry']=new_fire"
   ]
  },
  {
   "cell_type": "code",
   "execution_count": null,
   "id": "33ce41c4",
   "metadata": {},
   "outputs": [],
   "source": [
    "fire1['서ㆍ센터명']=fire1['서ㆍ센터명']\n",
    "fire1['SGG_NM']=fire1['SGG_NM']"
   ]
  },
  {
   "cell_type": "code",
   "execution_count": null,
   "id": "dc246997",
   "metadata": {},
   "outputs": [],
   "source": [
    "fire1 = gpd.GeoDataFrame(fire1, geometry='geometry')"
   ]
  },
  {
   "cell_type": "code",
   "execution_count": null,
   "id": "6451b1bd",
   "metadata": {},
   "outputs": [],
   "source": [
    "fire1 = fire1.set_crs('EPSG:5186')\n",
    "fire1 = fire1.to_crs('EPSG:4326')"
   ]
  },
  {
   "cell_type": "code",
   "execution_count": null,
   "id": "4d09f322",
   "metadata": {},
   "outputs": [],
   "source": [
    "nodes = gpd.read_file('./nodes222.shp')"
   ]
  },
  {
   "cell_type": "code",
   "execution_count": null,
   "id": "c073406a",
   "metadata": {},
   "outputs": [],
   "source": [
    "edges = gpd.read_file('./edges_join_count.shp')"
   ]
  },
  {
   "cell_type": "code",
   "execution_count": null,
   "id": "0e9f44a5",
   "metadata": {},
   "outputs": [],
   "source": [
    "edges['count'] = edges['edges_expo']"
   ]
  },
  {
   "cell_type": "code",
   "execution_count": null,
   "id": "6e07bd30",
   "metadata": {},
   "outputs": [],
   "source": [
    "edges = gpd.GeoDataFrame(edges, geometry = 'geometry')"
   ]
  },
  {
   "cell_type": "code",
   "execution_count": null,
   "id": "0f03a924",
   "metadata": {},
   "outputs": [],
   "source": [
    "nodes = gpd.GeoDataFrame(nodes, geometry = 'geometry')"
   ]
  },
  {
   "cell_type": "code",
   "execution_count": null,
   "id": "fcddef41",
   "metadata": {},
   "outputs": [],
   "source": [
    "nodes = nodes.to_crs(\"EPSG:4326\")"
   ]
  },
  {
   "cell_type": "code",
   "execution_count": null,
   "id": "921a9c2c",
   "metadata": {},
   "outputs": [],
   "source": [
    "edges = edges.to_crs(\"EPSG:4326\")"
   ]
  },
  {
   "cell_type": "code",
   "execution_count": null,
   "id": "2ce3d07e",
   "metadata": {},
   "outputs": [],
   "source": [
    "edges['count'] = edges['count'].fillna(0)"
   ]
  },
  {
   "cell_type": "code",
   "execution_count": null,
   "id": "a37406d9",
   "metadata": {},
   "outputs": [],
   "source": [
    "edges['ROAD_BT'] = edges['ROAD_BT'].fillna(5.0)"
   ]
  },
  {
   "cell_type": "code",
   "execution_count": null,
   "id": "dc370f3c",
   "metadata": {},
   "outputs": [],
   "source": [
    "def find_nearest_node(fire_row, nodes_gdf):\n",
    "    # 소방서의 geometry는 이미 Point 객체이므로, 이를 사용하여 가장 가까운 노드 찾기\n",
    "    nearest_node = nodes_gdf.geometry.distance(fire_row.geometry).idxmin()  # 가장 가까운 노드의 인덱스\n",
    "    return nodes_gdf.loc[nearest_node, 'osmid']  # 가장 가까운 노드의 osmid 반환\n",
    "\n",
    "# 2. 각 소방서에 가장 가까운 노드를 찾아 'nearest_node' 열에 할당\n",
    "fire1['nearest_node'] = fire1.apply(lambda row: find_nearest_node(row, nodes), axis=1)"
   ]
  },
  {
   "cell_type": "code",
   "execution_count": null,
   "id": "6411858d",
   "metadata": {},
   "outputs": [],
   "source": [
    "edges_filtered = edges[edges['ROAD_BT'] >= 4]"
   ]
  },
  {
   "cell_type": "code",
   "execution_count": null,
   "id": "fbaca482",
   "metadata": {},
   "outputs": [],
   "source": [
    "edges_filtered['count2']=0"
   ]
  },
  {
   "cell_type": "code",
   "execution_count": null,
   "id": "18d838cd",
   "metadata": {},
   "outputs": [],
   "source": [
    "edges_filtered"
   ]
  },
  {
   "cell_type": "code",
   "execution_count": null,
   "id": "b6aa7833",
   "metadata": {},
   "outputs": [],
   "source": [
    "base_speed = 22.8  # km/h\n",
    "time_limit = 5 / 60"
   ]
  },
  {
   "cell_type": "code",
   "execution_count": null,
   "id": "43f0cf7c",
   "metadata": {},
   "outputs": [],
   "source": [
    "fire_node = fire1.iloc[0]  # 첫 번째 소방서 예시\n",
    "start_node = fire_node['nearest_node']  # 할당된 노드 ID"
   ]
  },
  {
   "cell_type": "code",
   "execution_count": null,
   "id": "d8f7afcf",
   "metadata": {},
   "outputs": [],
   "source": [
    "G = nx.Graph()"
   ]
  },
  {
   "cell_type": "code",
   "execution_count": null,
   "id": "ce50e357",
   "metadata": {},
   "outputs": [],
   "source": [
    "for idx, row in edges_filtered.iterrows():\n",
    "    u, v = row['u'], row['v']\n",
    "    road_width = row['ROAD_BT']\n",
    "    illegal_parking_count = row['count']\n",
    "    # 불법 주정차가 있을 경우 속도 감소, 속도가 0.1보다 작으면 0.1로 설정\n",
    "    speed = base_speed - (illegal_parking_count * 0.25)\n",
    "    if speed < 0.01:\n",
    "        speed = 0.001  # 속도가 너무 작아지지 않도록 설정\n",
    "    \n",
    "    # 이동 시간 계산 (길이 / 속도)\n",
    "    travel_time = row['geometry'].length / speed  # 도로의 길이를 속도로 나누어 이동 시간 계산\n",
    "    # 엣지에 거리 (길이) 기반으로 추가\n",
    "    G.add_edge(u, v, length=row['geometry'].length, travel_time=travel_time, speed=speed)\n"
   ]
  },
  {
   "cell_type": "code",
   "execution_count": null,
   "id": "2d05acc3",
   "metadata": {},
   "outputs": [],
   "source": [
    "reachable_nodes = []\n",
    "reachable_edges = []\n",
    "for node in G.nodes:\n",
    "    # 시작 노드에서 각 노드까지의 이동 시간\n",
    "    try:\n",
    "        travel_time = nx.shortest_path_length(G, source=start_node, target=node, weight='travel_time')\n",
    "        if travel_time <= time_limit:\n",
    "            reachable_nodes.append(node)\n",
    "            # 해당 노드에 연결된 엣지도 추출\n",
    "            for neighbor in G.neighbors(node):\n",
    "                if {node, neighbor} not in reachable_edges:\n",
    "                    reachable_edges.append({node, neighbor})\n",
    "    except nx.NetworkXNoPath:\n",
    "        # 경로가 없는 경우는 무시\n",
    "        continue"
   ]
  },
  {
   "cell_type": "code",
   "execution_count": null,
   "id": "c69930eb",
   "metadata": {},
   "outputs": [],
   "source": [
    "reachable_nodes_gdf = nodes[nodes['osmid'].isin(reachable_nodes)]\n",
    "reachable_edges_gdf = edges_filtered[edges_filtered.apply(lambda row: {row['u'], row['v']}.issubset(reachable_nodes), axis=1)]\n"
   ]
  },
  {
   "cell_type": "code",
   "execution_count": null,
   "id": "09072317",
   "metadata": {},
   "outputs": [],
   "source": [
    "reachable_nodes_gdf.to_file(\"reachable_nodes.shp\")\n",
    "reachable_edges_gdf.to_file(\"reachable_edges.shp\")"
   ]
  }
 ],
 "metadata": {
  "kernelspec": {
   "display_name": "Python 3 (ipykernel)",
   "language": "python",
   "name": "python3"
  },
  "language_info": {
   "codemirror_mode": {
    "name": "ipython",
    "version": 3
   },
   "file_extension": ".py",
   "mimetype": "text/x-python",
   "name": "python",
   "nbconvert_exporter": "python",
   "pygments_lexer": "ipython3",
   "version": "3.9.13"
  }
 },
 "nbformat": 4,
 "nbformat_minor": 5
}
